{
 "cells": [
  {
   "cell_type": "markdown",
   "metadata": {},
   "source": [
    "# Fintech Case Study"
   ]
  },
  {
   "cell_type": "markdown",
   "metadata": {},
   "source": [
    "## Emerging Fintech Company in the Crypto Market"
   ]
  },
  {
   "cell_type": "markdown",
   "metadata": {},
   "source": [
    "### BlockFi:"
   ]
  },
  {
   "cell_type": "markdown",
   "metadata": {},
   "source": [
    "* Founded in 2017"
   ]
  },
  {
   "cell_type": "markdown",
   "metadata": {},
   "source": [
    "* Created by Zac Prince "
   ]
  },
  {
   "cell_type": "markdown",
   "metadata": {},
   "source": [
    "* The idea for the company came from Zac wanting to leverage his crypto portfolio so that he could get a loan and purchase an investment property. "
   ]
  },
  {
   "cell_type": "markdown",
   "metadata": {},
   "source": [
    "* Through 7 rounds of funding, BlockFi has raised about $108.7 million accoridng to [crunchbase](https://www.crunchbase.com/organization/blockfi-inc)."
   ]
  },
  {
   "cell_type": "markdown",
   "metadata": {},
   "source": [
    "---"
   ]
  },
  {
   "cell_type": "markdown",
   "metadata": {},
   "source": [
    "## Business Activities:"
   ]
  },
  {
   "cell_type": "markdown",
   "metadata": {},
   "source": [
    "* BlockFi is attempting to change the crypto lending and savings market. Until now, there hasn't been too many options for lending against cryptocurrency or even gaining interest on your crypto while you HODL. BlockFi wants to give you one platform to trade, save, and take out loans with your cryptocurrency. "
   ]
  },
  {
   "cell_type": "markdown",
   "metadata": {},
   "source": [
    "* BlockFi's intended market is people and investors who want to hedge against fiat currency, but want an alternative option to precious metals. During turbulent times like today when our Fed is pumping the economy with trillions of dollars, BlockFi aims to provide a different opportunity to those of us who believe in crypto and grow our portfolios. Similarly, those of us who look for alternative sources of lending/funding may look to BlockFi as the solution for the growing need of crypto-backed loans. "
   ]
  },
  {
   "cell_type": "markdown",
   "metadata": {},
   "source": [
    "* According to [stackshare](https://stackshare.io/blockfi/blockfi), BlockFi utilizes jQuery, JavaScript, PHP, and nginx, respectively. "
   ]
  },
  {
   "cell_type": "markdown",
   "metadata": {},
   "source": [
    "---"
   ]
  },
  {
   "cell_type": "markdown",
   "metadata": {},
   "source": [
    "## Landscape:"
   ]
  },
  {
   "cell_type": "markdown",
   "metadata": {},
   "source": [
    "* The reason why I chose BlockFi is it seems to straddle a few Fintech domains. For one, it's definitely an investment/wealth management platform due to our ability to buy, sell, trade, *and* earn interest on it. Similarly, it's a personal finance/lending company since we can take out loans against our crypto wallets. The last, and most obvious domain it's a part of is the cryptocurrency ecosystem which is the reason/want/need for this company in the first place. "
   ]
  },
  {
   "cell_type": "markdown",
   "metadata": {},
   "source": [
    "* In regards to trends in this domain, BlockFi is attempting to seamlessly combine them all. There are a few emerging companies who want to give you interest on your crypto in order to save with them, or others that want to offer you a crypto-backed loan, but none that will allow you to do all 3 (trade, hold, lend). "
   ]
  },
  {
   "cell_type": "markdown",
   "metadata": {},
   "source": [
    "* Competitors in this space are few and far between. The only two that come up are [Unchained Capital](https://unchained-capital.com/loans/) and [Celsius Network](https://celsius.network/?campaignid=8162313304&adgroupid=83328598014&adid=398174686459&gclid=Cj0KCQjwudb3BRC9ARIsAEa-vUsRRVGnWwypOi2Am3LIPgNJlLHQe3fTO6rj1yxRP7CTERADfFn4O1EaArmSEALw_wcB). The common denominator is that each of these companies were created relatively recently (circa 2017) and there is a serious apprehension to transfer money or apply for loans with them. I would argue that the biggest competitor to BlockFi is the centuries-old approach to banking/lending and our dependability on Fiat currency. "
   ]
  },
  {
   "cell_type": "markdown",
   "metadata": {},
   "source": [
    "---"
   ]
  },
  {
   "cell_type": "markdown",
   "metadata": {},
   "source": [
    "## Results:"
   ]
  },
  {
   "cell_type": "markdown",
   "metadata": {},
   "source": [
    "* So far, BlockFi is managing a total of $650 Million in assets according to [The Block](https://www.theblockcrypto.com/post/61369/crypto-hedge-fund-three-arrows-capital-invests-in-blockfi) which is pretty good considering it's a three year old company and the total crypto market is valued at ~ [260 Billion](https://coinmarketcap.com/charts/). "
   ]
  },
  {
   "cell_type": "markdown",
   "metadata": {},
   "source": [
    "* There aren't very many metrics out there to measure success for these companies other than funding rounds and assets managed, which are mentioned above. BlockFi has secured great backing and thier revenue has grown over 20X in 2019; although, it feels fair to proceed with caution as they exist in such a fringe market as of today.  Many of their investors and users are big-time crypto HODL'ers, so I believe real success will be apparent when the average person takes advantage of their interest rates and crypto lending becomes normalized."
   ]
  },
  {
   "cell_type": "markdown",
   "metadata": {},
   "source": [
    "---"
   ]
  },
  {
   "cell_type": "markdown",
   "metadata": {},
   "source": [
    "## Recommendations:"
   ]
  },
  {
   "cell_type": "markdown",
   "metadata": {},
   "source": [
    "* BlockFi recently added the ability to buy/sell/trade crypto from their mobile app as I'm typing this (June 25, 2020) which was my biggest critique to date. They still lack a great method for transferring cash to their platform while many online banks only need a quick ACH transfer to move money effectively. A better way to transfer/store cash within their network would be a big plus, and would most likely attract people who are unsure of converting their USD to stablecoin. Again, I think it's imperative to attract the casual investor to their platofrm and the only way to do so is by offering a more seamless cash transfer modality. The best way for BlockFi to proceed is by incorpating an ACH processing network similar to most online banks or Venmo. Once they cross this bridge it would seem probable that BlockFi could break free from its current limitations and be the all-in-one banking platform for future humans. "
   ]
  }
 ],
 "metadata": {
  "kernelspec": {
   "display_name": "Python 3",
   "language": "python",
   "name": "python3"
  },
  "language_info": {
   "codemirror_mode": {
    "name": "ipython",
    "version": 3
   },
   "file_extension": ".py",
   "mimetype": "text/x-python",
   "name": "python",
   "nbconvert_exporter": "python",
   "pygments_lexer": "ipython3",
   "version": "3.7.6"
  }
 },
 "nbformat": 4,
 "nbformat_minor": 4
}
